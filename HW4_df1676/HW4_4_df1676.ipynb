{
 "cells": [
  {
   "cell_type": "markdown",
   "metadata": {},
   "source": [
    "test if the distribution of ages is the same for \n",
    "\n",
    "1) male and female riders\n",
    "\n",
    "2) day and night riders\n",
    "\n",
    "use 3 tests: KS, Pearson's, Spearman's. \n",
    "\n",
    "For the KS do the test with the entire dataset and with a subset 200 times smaller\n",
    "\n",
    "Choose a significant threshold for the whole eercise. \n",
    "\n",
    "For each test phrase the Null Hypothesis in words.\n",
    "\n",
    "Describe the return of the scipy function you use in each case.\n",
    "\n",
    "State the result in terms of rejection of the Null."
   ]
  },
  {
   "cell_type": "code",
   "execution_count": 25,
   "metadata": {
    "collapsed": false
   },
   "outputs": [
    {
     "name": "stdout",
     "output_type": "stream",
     "text": [
      "Populating the interactive namespace from numpy and matplotlib\n"
     ]
    },
    {
     "name": "stderr",
     "output_type": "stream",
     "text": [
      "/opt/rh/anaconda/root/envs/PUI2016_Python2/lib/python2.7/site-packages/IPython/core/magics/pylab.py:161: UserWarning: pylab import has clobbered these variables: ['diff']\n",
      "`%matplotlib` prevents importing * from pylab and numpy\n",
      "  \"\\n`%matplotlib` prevents importing * from pylab and numpy\"\n"
     ]
    }
   ],
   "source": [
    "from __future__  import print_function, division\n",
    "import pylab as pl\n",
    "import pandas as pd\n",
    "import numpy as np\n",
    "import os\n",
    "import scipy.stats \n",
    "%pylab inline"
   ]
  },
  {
   "cell_type": "code",
   "execution_count": 2,
   "metadata": {
    "collapsed": false
   },
   "outputs": [
    {
     "data": {
      "text/plain": [
       "'/home/cusp/df1676/PUIdata'"
      ]
     },
     "execution_count": 2,
     "metadata": {},
     "output_type": "execute_result"
    }
   ],
   "source": [
    "os.getenv(\"PUIDATA\")"
   ]
  },
  {
   "cell_type": "code",
   "execution_count": 3,
   "metadata": {
    "collapsed": true
   },
   "outputs": [],
   "source": [
    "def getCitiBikeCSV(datestring):\n",
    "    print (\"Downloading\", datestring)\n",
    "    if not os.path.isdir(os.getenv(\"PUIDATA\")):\n",
    "        os.system('mkdir '+ os.getenv(\"PUIDATA\"))\n",
    "\n",
    "    if not os.path.isfile(os.getenv(\"PUIDATA\") + \"/\" + datestring + \"-citibike-tripdata.zip\"):\n",
    "        os.system(\"curl -O https://s3.amazonaws.com/tripdata/\" + datestring + \"-citibike-tripdata.zip\")\n",
    "        os.system(\"mv \" + datestring + \"-citibike-tripdata.zip \" + os.getenv(\"PUIDATA\"))\n",
    "        os.system(\"unzip \" + os.getenv(\"PUIDATA\") + \"/\" + datestring + \"-citibike-tripdata.zip\")\n",
    "        #os.system(\"rm \" + os.getenv(\"PUIDATA\") + \"/\" + datestring + \"-citibike-tripdata.zip\")\n",
    "        if int(datestring) < 201409:\n",
    "            os.system(\"mv \" + datestring[:4] + '-' +  datestring[4:] + \n",
    "                          \"\\ -\\ Citi\\ Bike\\ trip\\ data.csv \" + datestring + \"-citibike-tripdata.csv\")\n",
    "        #os.system(\"cp \"+ datestring + \"-citibike-tripdata.csv\" + os.getenv(\"PUIDATA\") + \"/\" + \n",
    "        #          datestring + \"-citibike-tripdata.csv\")\n",
    "        if int(datestring) < 201307:\n",
    "            print (\"Warning: Not Avaliable\")"
   ]
  },
  {
   "cell_type": "markdown",
   "metadata": {},
   "source": [
    "## We use Aug 2015 data for analysis."
   ]
  },
  {
   "cell_type": "code",
   "execution_count": 11,
   "metadata": {
    "collapsed": false
   },
   "outputs": [
    {
     "name": "stdout",
     "output_type": "stream",
     "text": [
      "Input Year and Month (eg. 201510): 201602\n",
      "Downloading 201602\n"
     ]
    }
   ],
   "source": [
    "datestring = raw_input(\"Input Year and Month (eg. 201510): \")\n",
    "#datestring = '201409'\n",
    "getCitiBikeCSV(datestring)"
   ]
  },
  {
   "cell_type": "code",
   "execution_count": 12,
   "metadata": {
    "collapsed": false
   },
   "outputs": [
    {
     "data": {
      "text/html": [
       "<div>\n",
       "<table border=\"1\" class=\"dataframe\">\n",
       "  <thead>\n",
       "    <tr style=\"text-align: right;\">\n",
       "      <th></th>\n",
       "      <th>tripduration</th>\n",
       "      <th>starttime</th>\n",
       "      <th>stoptime</th>\n",
       "      <th>start station id</th>\n",
       "      <th>start station name</th>\n",
       "      <th>start station latitude</th>\n",
       "      <th>start station longitude</th>\n",
       "      <th>end station id</th>\n",
       "      <th>end station name</th>\n",
       "      <th>end station latitude</th>\n",
       "      <th>end station longitude</th>\n",
       "      <th>bikeid</th>\n",
       "      <th>usertype</th>\n",
       "      <th>birth year</th>\n",
       "      <th>gender</th>\n",
       "    </tr>\n",
       "  </thead>\n",
       "  <tbody>\n",
       "    <tr>\n",
       "      <th>0</th>\n",
       "      <td>461</td>\n",
       "      <td>2/1/2016 00:00:08</td>\n",
       "      <td>2/1/2016 00:07:49</td>\n",
       "      <td>480</td>\n",
       "      <td>W 53 St &amp; 10 Ave</td>\n",
       "      <td>40.766697</td>\n",
       "      <td>-73.990617</td>\n",
       "      <td>524</td>\n",
       "      <td>W 43 St &amp; 6 Ave</td>\n",
       "      <td>40.755273</td>\n",
       "      <td>-73.983169</td>\n",
       "      <td>23292</td>\n",
       "      <td>Subscriber</td>\n",
       "      <td>1966.0</td>\n",
       "      <td>1</td>\n",
       "    </tr>\n",
       "    <tr>\n",
       "      <th>1</th>\n",
       "      <td>297</td>\n",
       "      <td>2/1/2016 00:00:56</td>\n",
       "      <td>2/1/2016 00:05:53</td>\n",
       "      <td>463</td>\n",
       "      <td>9 Ave &amp; W 16 St</td>\n",
       "      <td>40.742065</td>\n",
       "      <td>-74.004432</td>\n",
       "      <td>380</td>\n",
       "      <td>W 4 St &amp; 7 Ave S</td>\n",
       "      <td>40.734011</td>\n",
       "      <td>-74.002939</td>\n",
       "      <td>15329</td>\n",
       "      <td>Subscriber</td>\n",
       "      <td>1977.0</td>\n",
       "      <td>1</td>\n",
       "    </tr>\n",
       "    <tr>\n",
       "      <th>2</th>\n",
       "      <td>280</td>\n",
       "      <td>2/1/2016 00:01:00</td>\n",
       "      <td>2/1/2016 00:05:40</td>\n",
       "      <td>3134</td>\n",
       "      <td>3 Ave &amp; E 62 St</td>\n",
       "      <td>40.763126</td>\n",
       "      <td>-73.965269</td>\n",
       "      <td>3141</td>\n",
       "      <td>1 Ave &amp; E 68 St</td>\n",
       "      <td>40.765005</td>\n",
       "      <td>-73.958185</td>\n",
       "      <td>22927</td>\n",
       "      <td>Subscriber</td>\n",
       "      <td>1987.0</td>\n",
       "      <td>1</td>\n",
       "    </tr>\n",
       "    <tr>\n",
       "      <th>3</th>\n",
       "      <td>662</td>\n",
       "      <td>2/1/2016 00:01:00</td>\n",
       "      <td>2/1/2016 00:12:02</td>\n",
       "      <td>537</td>\n",
       "      <td>Lexington Ave &amp; E 24 St</td>\n",
       "      <td>40.740259</td>\n",
       "      <td>-73.984092</td>\n",
       "      <td>428</td>\n",
       "      <td>E 3 St &amp; 1 Ave</td>\n",
       "      <td>40.724677</td>\n",
       "      <td>-73.987834</td>\n",
       "      <td>20903</td>\n",
       "      <td>Subscriber</td>\n",
       "      <td>1983.0</td>\n",
       "      <td>2</td>\n",
       "    </tr>\n",
       "    <tr>\n",
       "      <th>4</th>\n",
       "      <td>355</td>\n",
       "      <td>2/1/2016 00:01:41</td>\n",
       "      <td>2/1/2016 00:07:36</td>\n",
       "      <td>284</td>\n",
       "      <td>Greenwich Ave &amp; 8 Ave</td>\n",
       "      <td>40.739017</td>\n",
       "      <td>-74.002638</td>\n",
       "      <td>521</td>\n",
       "      <td>8 Ave &amp; W 31 St</td>\n",
       "      <td>40.750967</td>\n",
       "      <td>-73.994442</td>\n",
       "      <td>23228</td>\n",
       "      <td>Subscriber</td>\n",
       "      <td>1978.0</td>\n",
       "      <td>1</td>\n",
       "    </tr>\n",
       "  </tbody>\n",
       "</table>\n",
       "</div>"
      ],
      "text/plain": [
       "   tripduration          starttime           stoptime  start station id  \\\n",
       "0           461  2/1/2016 00:00:08  2/1/2016 00:07:49               480   \n",
       "1           297  2/1/2016 00:00:56  2/1/2016 00:05:53               463   \n",
       "2           280  2/1/2016 00:01:00  2/1/2016 00:05:40              3134   \n",
       "3           662  2/1/2016 00:01:00  2/1/2016 00:12:02               537   \n",
       "4           355  2/1/2016 00:01:41  2/1/2016 00:07:36               284   \n",
       "\n",
       "        start station name  start station latitude  start station longitude  \\\n",
       "0         W 53 St & 10 Ave               40.766697               -73.990617   \n",
       "1          9 Ave & W 16 St               40.742065               -74.004432   \n",
       "2          3 Ave & E 62 St               40.763126               -73.965269   \n",
       "3  Lexington Ave & E 24 St               40.740259               -73.984092   \n",
       "4    Greenwich Ave & 8 Ave               40.739017               -74.002638   \n",
       "\n",
       "   end station id  end station name  end station latitude  \\\n",
       "0             524   W 43 St & 6 Ave             40.755273   \n",
       "1             380  W 4 St & 7 Ave S             40.734011   \n",
       "2            3141   1 Ave & E 68 St             40.765005   \n",
       "3             428    E 3 St & 1 Ave             40.724677   \n",
       "4             521   8 Ave & W 31 St             40.750967   \n",
       "\n",
       "   end station longitude  bikeid    usertype  birth year  gender  \n",
       "0             -73.983169   23292  Subscriber      1966.0       1  \n",
       "1             -74.002939   15329  Subscriber      1977.0       1  \n",
       "2             -73.958185   22927  Subscriber      1987.0       1  \n",
       "3             -73.987834   20903  Subscriber      1983.0       2  \n",
       "4             -73.994442   23228  Subscriber      1978.0       1  "
      ]
     },
     "execution_count": 12,
     "metadata": {},
     "output_type": "execute_result"
    }
   ],
   "source": [
    "df = pd.read_csv(datestring + '-citibike-tripdata.csv')\n",
    "df.head()"
   ]
  },
  {
   "cell_type": "code",
   "execution_count": 14,
   "metadata": {
    "collapsed": false
   },
   "outputs": [],
   "source": [
    "df.date = pd.to_datetime(df.starttime)"
   ]
  },
  {
   "cell_type": "code",
   "execution_count": 15,
   "metadata": {
    "collapsed": false
   },
   "outputs": [
    {
     "name": "stdout",
     "output_type": "stream",
     "text": [
      "Index([u'tripduration', u'starttime', u'stoptime', u'start station id',\n",
      "       u'start station name', u'start station latitude',\n",
      "       u'start station longitude', u'end station id', u'end station name',\n",
      "       u'end station latitude', u'end station longitude', u'bikeid',\n",
      "       u'usertype', u'birth year', u'gender'],\n",
      "      dtype='object')\n",
      "(560874, 15)\n"
     ]
    }
   ],
   "source": [
    "print (df.columns)\n",
    "print (df.shape)"
   ]
  },
  {
   "cell_type": "code",
   "execution_count": 16,
   "metadata": {
    "collapsed": true
   },
   "outputs": [],
   "source": [
    "df['ageM'] = 2015 - df['birth year'][(df['usertype'] == 'Subscriber') & (df['gender'] == 1)]\n",
    "df['ageF'] = 2015 - df['birth year'][(df['usertype'] == 'Subscriber') & (df['gender'] == 2)]"
   ]
  },
  {
   "cell_type": "code",
   "execution_count": 17,
   "metadata": {
    "collapsed": false
   },
   "outputs": [
    {
     "data": {
      "text/html": [
       "<div>\n",
       "<table border=\"1\" class=\"dataframe\">\n",
       "  <thead>\n",
       "    <tr style=\"text-align: right;\">\n",
       "      <th></th>\n",
       "      <th>tripduration</th>\n",
       "      <th>starttime</th>\n",
       "      <th>stoptime</th>\n",
       "      <th>start station id</th>\n",
       "      <th>start station name</th>\n",
       "      <th>start station latitude</th>\n",
       "      <th>start station longitude</th>\n",
       "      <th>end station id</th>\n",
       "      <th>end station name</th>\n",
       "      <th>end station latitude</th>\n",
       "      <th>end station longitude</th>\n",
       "      <th>bikeid</th>\n",
       "      <th>usertype</th>\n",
       "      <th>birth year</th>\n",
       "      <th>gender</th>\n",
       "      <th>ageM</th>\n",
       "      <th>ageF</th>\n",
       "    </tr>\n",
       "  </thead>\n",
       "  <tbody>\n",
       "    <tr>\n",
       "      <th>0</th>\n",
       "      <td>461</td>\n",
       "      <td>2/1/2016 00:00:08</td>\n",
       "      <td>2/1/2016 00:07:49</td>\n",
       "      <td>480</td>\n",
       "      <td>W 53 St &amp; 10 Ave</td>\n",
       "      <td>40.766697</td>\n",
       "      <td>-73.990617</td>\n",
       "      <td>524</td>\n",
       "      <td>W 43 St &amp; 6 Ave</td>\n",
       "      <td>40.755273</td>\n",
       "      <td>-73.983169</td>\n",
       "      <td>23292</td>\n",
       "      <td>Subscriber</td>\n",
       "      <td>1966.0</td>\n",
       "      <td>1</td>\n",
       "      <td>49.0</td>\n",
       "      <td>NaN</td>\n",
       "    </tr>\n",
       "    <tr>\n",
       "      <th>1</th>\n",
       "      <td>297</td>\n",
       "      <td>2/1/2016 00:00:56</td>\n",
       "      <td>2/1/2016 00:05:53</td>\n",
       "      <td>463</td>\n",
       "      <td>9 Ave &amp; W 16 St</td>\n",
       "      <td>40.742065</td>\n",
       "      <td>-74.004432</td>\n",
       "      <td>380</td>\n",
       "      <td>W 4 St &amp; 7 Ave S</td>\n",
       "      <td>40.734011</td>\n",
       "      <td>-74.002939</td>\n",
       "      <td>15329</td>\n",
       "      <td>Subscriber</td>\n",
       "      <td>1977.0</td>\n",
       "      <td>1</td>\n",
       "      <td>38.0</td>\n",
       "      <td>NaN</td>\n",
       "    </tr>\n",
       "    <tr>\n",
       "      <th>2</th>\n",
       "      <td>280</td>\n",
       "      <td>2/1/2016 00:01:00</td>\n",
       "      <td>2/1/2016 00:05:40</td>\n",
       "      <td>3134</td>\n",
       "      <td>3 Ave &amp; E 62 St</td>\n",
       "      <td>40.763126</td>\n",
       "      <td>-73.965269</td>\n",
       "      <td>3141</td>\n",
       "      <td>1 Ave &amp; E 68 St</td>\n",
       "      <td>40.765005</td>\n",
       "      <td>-73.958185</td>\n",
       "      <td>22927</td>\n",
       "      <td>Subscriber</td>\n",
       "      <td>1987.0</td>\n",
       "      <td>1</td>\n",
       "      <td>28.0</td>\n",
       "      <td>NaN</td>\n",
       "    </tr>\n",
       "    <tr>\n",
       "      <th>3</th>\n",
       "      <td>662</td>\n",
       "      <td>2/1/2016 00:01:00</td>\n",
       "      <td>2/1/2016 00:12:02</td>\n",
       "      <td>537</td>\n",
       "      <td>Lexington Ave &amp; E 24 St</td>\n",
       "      <td>40.740259</td>\n",
       "      <td>-73.984092</td>\n",
       "      <td>428</td>\n",
       "      <td>E 3 St &amp; 1 Ave</td>\n",
       "      <td>40.724677</td>\n",
       "      <td>-73.987834</td>\n",
       "      <td>20903</td>\n",
       "      <td>Subscriber</td>\n",
       "      <td>1983.0</td>\n",
       "      <td>2</td>\n",
       "      <td>NaN</td>\n",
       "      <td>32.0</td>\n",
       "    </tr>\n",
       "    <tr>\n",
       "      <th>4</th>\n",
       "      <td>355</td>\n",
       "      <td>2/1/2016 00:01:41</td>\n",
       "      <td>2/1/2016 00:07:36</td>\n",
       "      <td>284</td>\n",
       "      <td>Greenwich Ave &amp; 8 Ave</td>\n",
       "      <td>40.739017</td>\n",
       "      <td>-74.002638</td>\n",
       "      <td>521</td>\n",
       "      <td>8 Ave &amp; W 31 St</td>\n",
       "      <td>40.750967</td>\n",
       "      <td>-73.994442</td>\n",
       "      <td>23228</td>\n",
       "      <td>Subscriber</td>\n",
       "      <td>1978.0</td>\n",
       "      <td>1</td>\n",
       "      <td>37.0</td>\n",
       "      <td>NaN</td>\n",
       "    </tr>\n",
       "  </tbody>\n",
       "</table>\n",
       "</div>"
      ],
      "text/plain": [
       "   tripduration          starttime           stoptime  start station id  \\\n",
       "0           461  2/1/2016 00:00:08  2/1/2016 00:07:49               480   \n",
       "1           297  2/1/2016 00:00:56  2/1/2016 00:05:53               463   \n",
       "2           280  2/1/2016 00:01:00  2/1/2016 00:05:40              3134   \n",
       "3           662  2/1/2016 00:01:00  2/1/2016 00:12:02               537   \n",
       "4           355  2/1/2016 00:01:41  2/1/2016 00:07:36               284   \n",
       "\n",
       "        start station name  start station latitude  start station longitude  \\\n",
       "0         W 53 St & 10 Ave               40.766697               -73.990617   \n",
       "1          9 Ave & W 16 St               40.742065               -74.004432   \n",
       "2          3 Ave & E 62 St               40.763126               -73.965269   \n",
       "3  Lexington Ave & E 24 St               40.740259               -73.984092   \n",
       "4    Greenwich Ave & 8 Ave               40.739017               -74.002638   \n",
       "\n",
       "   end station id  end station name  end station latitude  \\\n",
       "0             524   W 43 St & 6 Ave             40.755273   \n",
       "1             380  W 4 St & 7 Ave S             40.734011   \n",
       "2            3141   1 Ave & E 68 St             40.765005   \n",
       "3             428    E 3 St & 1 Ave             40.724677   \n",
       "4             521   8 Ave & W 31 St             40.750967   \n",
       "\n",
       "   end station longitude  bikeid    usertype  birth year  gender  ageM  ageF  \n",
       "0             -73.983169   23292  Subscriber      1966.0       1  49.0   NaN  \n",
       "1             -74.002939   15329  Subscriber      1977.0       1  38.0   NaN  \n",
       "2             -73.958185   22927  Subscriber      1987.0       1  28.0   NaN  \n",
       "3             -73.987834   20903  Subscriber      1983.0       2   NaN  32.0  \n",
       "4             -73.994442   23228  Subscriber      1978.0       1  37.0   NaN  "
      ]
     },
     "execution_count": 17,
     "metadata": {},
     "output_type": "execute_result"
    }
   ],
   "source": [
    "df.head()\n",
    "#df.describe()"
   ]
  },
  {
   "cell_type": "code",
   "execution_count": 18,
   "metadata": {
    "collapsed": false
   },
   "outputs": [],
   "source": [
    "bins = np.arange(10, 99, 5)"
   ]
  },
  {
   "cell_type": "code",
   "execution_count": 19,
   "metadata": {
    "collapsed": false
   },
   "outputs": [
    {
     "data": {
      "text/plain": [
       "<matplotlib.axes._subplots.AxesSubplot at 0x7fb1ed0acb90>"
      ]
     },
     "execution_count": 19,
     "metadata": {},
     "output_type": "execute_result"
    },
    {
     "data": {
      "image/png": "[encoded data removed]",
      "text/plain": [
       "<matplotlib.figure.Figure at 0x7fb1f895b910>"
      ]
     },
     "metadata": {},
     "output_type": "display_data"
    },
    {
     "data": {
      "image/png": "[encoded data removed]",
      "text/plain": [
       "<matplotlib.figure.Figure at 0x7fb1f895b590>"
      ]
     },
     "metadata": {},
     "output_type": "display_data"
    }
   ],
   "source": [
    "axM = df.ageM.groupby(pd.cut(df.ageM, bins)).agg([count_nonzero])\n",
    "axF = df.ageF.groupby(pd.cut(df.ageF, bins)).agg([count_nonzero])\n",
    "axM.plot(kind=\"bar\", title=\"Male\", legend=False)\n",
    "axF.plot(kind='bar', title=\"Female\", legend=False)"
   ]
  },
  {
   "cell_type": "markdown",
   "metadata": {},
   "source": [
    "### Fig 1: bar plot of distribution of riders' ages by gender"
   ]
  },
  {
   "cell_type": "markdown",
   "metadata": {},
   "source": [
    "**?**\n",
    "<br/>\n",
    "Prof's note:\n",
    "<br/>\"\n",
    "this is how the cumulative distributions look like. Notice that i am normalizing them! if i want to reat an observed distribution like a probablility distribution i have to normalize it\n",
    "\"<br/>"
   ]
  },
  {
   "cell_type": "code",
   "execution_count": 20,
   "metadata": {
    "collapsed": false
   },
   "outputs": [],
   "source": [
    "bins = np.arange(10, 99, 5)\n",
    "csM = df.ageM.groupby(pd.cut(df.ageM, bins)).agg([count_nonzero]).cumsum()\n",
    "csF = df.ageF.groupby(pd.cut(df.ageF, bins)).agg([count_nonzero]).cumsum()"
   ]
  },
  {
   "cell_type": "code",
   "execution_count": 21,
   "metadata": {
    "collapsed": false
   },
   "outputs": [],
   "source": [
    "diff = np.abs(csM / csM.max() - csF / csF.max())"
   ]
  },
  {
   "cell_type": "code",
   "execution_count": 22,
   "metadata": {
    "collapsed": false
   },
   "outputs": [
    {
     "data": {
      "text/plain": [
       "<matplotlib.text.Text at 0x7fb1ecea30d0>"
      ]
     },
     "execution_count": 22,
     "metadata": {},
     "output_type": "execute_result"
    },
    {
     "data": {
      "image/png": "[encoded data removed]",
      "text/plain": [
       "<matplotlib.figure.Figure at 0x7fb1ecf2c7d0>"
      ]
     },
     "metadata": {},
     "output_type": "display_data"
    }
   ],
   "source": [
    "pl.plot(bins[:-1]+5, csM/csM.max(), label=\"Male\")\n",
    "pl.plot(bins[:-1]+5, csF/csF.max(), label=\"Female\")\n",
    "pl.plot(bins[:-1]+5, diff, label=\"Difference\")\n",
    "pl.legend()\n",
    "pl.xlabel(\"Age Interval\")\n",
    "pl.ylabel(\"Normalized Cumulative Number\")\n",
    "pl.title(\"the cumulative distribution of CitiBike riders' ages by gender\")"
   ]
  },
  {
   "cell_type": "markdown",
   "metadata": {},
   "source": [
    "### Fig2 The cumulative distribution of CitiBike riders' ages by gender"
   ]
  },
  {
   "cell_type": "code",
   "execution_count": 23,
   "metadata": {
    "collapsed": false
   },
   "outputs": [
    {
     "data": {
      "text/plain": [
       "count_nonzero    0.074918\n",
       "dtype: float64"
      ]
     },
     "execution_count": 23,
     "metadata": {},
     "output_type": "execute_result"
    }
   ],
   "source": [
    "diff.max()"
   ]
  },
  {
   "cell_type": "markdown",
   "metadata": {},
   "source": [
    "**?**\n",
    "<br/>\n",
    "They look similar! But the difference gets to 7.5%. \n",
    "\n",
    "<br/><br/>If I wanted to code the KS test by hand I woud have everything I need: the normalized cumulative distributions can be subtracted from each other and the max distance can calculated.\n",
    "<br/><br/>\n",
    "Notice that there may be **NaN values you are gonna have to deal with!** \n",
    "<br/>*You can do that for example with a Boolean statementsuch as df.ageF[~np.isnan(df.ageF)]*<br/> \n",
    "or *you can use numpy functions that deal with Nan values: nansum, nanmean, nanstd...*\n",
    "lets run the scipy KS test"
   ]
  },
  {
   "cell_type": "markdown",
   "metadata": {},
   "source": [
    "### KS tests to compare 2 samples\n",
    "http://docs.scipy.org/doc/scipy-0.15.1/reference/generated/scipy.stats.ks_2samp.html"
   ]
  },
  {
   "cell_type": "code",
   "execution_count": 28,
   "metadata": {
    "collapsed": false
   },
   "outputs": [
    {
     "name": "stdout",
     "output_type": "stream",
     "text": [
      "Ks_2sampResult(statistic=0.1035057052218377, pvalue=0.0)\n"
     ]
    }
   ],
   "source": [
    "ks = scipy.stats.ks_2samp(df.ageM[~np.isnan(df.ageM)], df.ageF[~np.isnan(df.ageF)])\n",
    "print (ks)"
   ]
  },
  {
   "cell_type": "markdown",
   "metadata": {},
   "source": [
    "**scipy.stat.ks_2samp(sample1, sample2)** return the ks statistics and p-value of two-tail test.\n",
    "<br/>Suppose we set the significent level as $\\alpha$\n",
    "<br/>if p-value < $\\alpha$, we reject the NULL hypothesis, which is two samples are nor from the same distribution."
   ]
  },
  {
   "cell_type": "markdown",
   "metadata": {},
   "source": [
    "### Link: Theroy of K-S Test"
   ]
  },
  {
   "cell_type": "markdown",
   "metadata": {},
   "source": [
    "### Now redo the test with a subsample of the data: take only 1 ride every of 200\n"
   ]
  },
  {
   "cell_type": "code",
   "execution_count": 29,
   "metadata": {
    "collapsed": true
   },
   "outputs": [],
   "source": [
    "## your words here!...\n",
    "## this cell is for you to redo the test with reducted dataset \n",
    "## and tell me what the scipy KS test returned and what it means in terms of NULL HYPOTHESIS"
   ]
  },
  {
   "cell_type": "code",
   "execution_count": 30,
   "metadata": {
    "collapsed": false
   },
   "outputs": [
    {
     "data": {
      "text/html": [
       "<div>\n",
       "<table border=\"1\" class=\"dataframe\">\n",
       "  <thead>\n",
       "    <tr style=\"text-align: right;\">\n",
       "      <th></th>\n",
       "      <th>tripduration</th>\n",
       "      <th>starttime</th>\n",
       "      <th>stoptime</th>\n",
       "      <th>start station id</th>\n",
       "      <th>start station name</th>\n",
       "      <th>start station latitude</th>\n",
       "      <th>start station longitude</th>\n",
       "      <th>end station id</th>\n",
       "      <th>end station name</th>\n",
       "      <th>end station latitude</th>\n",
       "      <th>end station longitude</th>\n",
       "      <th>bikeid</th>\n",
       "      <th>usertype</th>\n",
       "      <th>birth year</th>\n",
       "      <th>gender</th>\n",
       "      <th>ageM</th>\n",
       "      <th>ageF</th>\n",
       "    </tr>\n",
       "  </thead>\n",
       "  <tbody>\n",
       "    <tr>\n",
       "      <th>0</th>\n",
       "      <td>461</td>\n",
       "      <td>2/1/2016 00:00:08</td>\n",
       "      <td>2/1/2016 00:07:49</td>\n",
       "      <td>480</td>\n",
       "      <td>W 53 St &amp; 10 Ave</td>\n",
       "      <td>40.766697</td>\n",
       "      <td>-73.990617</td>\n",
       "      <td>524</td>\n",
       "      <td>W 43 St &amp; 6 Ave</td>\n",
       "      <td>40.755273</td>\n",
       "      <td>-73.983169</td>\n",
       "      <td>23292</td>\n",
       "      <td>Subscriber</td>\n",
       "      <td>1966.0</td>\n",
       "      <td>1</td>\n",
       "      <td>49.0</td>\n",
       "      <td>NaN</td>\n",
       "    </tr>\n",
       "    <tr>\n",
       "      <th>200</th>\n",
       "      <td>240</td>\n",
       "      <td>2/1/2016 02:00:02</td>\n",
       "      <td>2/1/2016 02:04:03</td>\n",
       "      <td>450</td>\n",
       "      <td>W 49 St &amp; 8 Ave</td>\n",
       "      <td>40.762272</td>\n",
       "      <td>-73.987882</td>\n",
       "      <td>468</td>\n",
       "      <td>Broadway &amp; W 55 St</td>\n",
       "      <td>40.765265</td>\n",
       "      <td>-73.981923</td>\n",
       "      <td>22865</td>\n",
       "      <td>Subscriber</td>\n",
       "      <td>1974.0</td>\n",
       "      <td>1</td>\n",
       "      <td>41.0</td>\n",
       "      <td>NaN</td>\n",
       "    </tr>\n",
       "    <tr>\n",
       "      <th>400</th>\n",
       "      <td>229</td>\n",
       "      <td>2/1/2016 05:41:09</td>\n",
       "      <td>2/1/2016 05:44:58</td>\n",
       "      <td>453</td>\n",
       "      <td>W 22 St &amp; 8 Ave</td>\n",
       "      <td>40.744751</td>\n",
       "      <td>-73.999154</td>\n",
       "      <td>459</td>\n",
       "      <td>W 20 St &amp; 11 Ave</td>\n",
       "      <td>40.746745</td>\n",
       "      <td>-74.007756</td>\n",
       "      <td>18504</td>\n",
       "      <td>Subscriber</td>\n",
       "      <td>1962.0</td>\n",
       "      <td>1</td>\n",
       "      <td>53.0</td>\n",
       "      <td>NaN</td>\n",
       "    </tr>\n",
       "    <tr>\n",
       "      <th>600</th>\n",
       "      <td>817</td>\n",
       "      <td>2/1/2016 06:12:02</td>\n",
       "      <td>2/1/2016 06:25:39</td>\n",
       "      <td>250</td>\n",
       "      <td>Lafayette St &amp; Jersey St</td>\n",
       "      <td>40.724561</td>\n",
       "      <td>-73.995653</td>\n",
       "      <td>519</td>\n",
       "      <td>Pershing Square North</td>\n",
       "      <td>40.751873</td>\n",
       "      <td>-73.977706</td>\n",
       "      <td>23794</td>\n",
       "      <td>Subscriber</td>\n",
       "      <td>1985.0</td>\n",
       "      <td>1</td>\n",
       "      <td>30.0</td>\n",
       "      <td>NaN</td>\n",
       "    </tr>\n",
       "    <tr>\n",
       "      <th>800</th>\n",
       "      <td>342</td>\n",
       "      <td>2/1/2016 06:28:41</td>\n",
       "      <td>2/1/2016 06:34:24</td>\n",
       "      <td>352</td>\n",
       "      <td>W 56 St &amp; 6 Ave</td>\n",
       "      <td>40.763406</td>\n",
       "      <td>-73.977225</td>\n",
       "      <td>359</td>\n",
       "      <td>E 47 St &amp; Park Ave</td>\n",
       "      <td>40.755103</td>\n",
       "      <td>-73.974987</td>\n",
       "      <td>24073</td>\n",
       "      <td>Subscriber</td>\n",
       "      <td>1981.0</td>\n",
       "      <td>1</td>\n",
       "      <td>34.0</td>\n",
       "      <td>NaN</td>\n",
       "    </tr>\n",
       "  </tbody>\n",
       "</table>\n",
       "</div>"
      ],
      "text/plain": [
       "     tripduration          starttime           stoptime  start station id  \\\n",
       "0             461  2/1/2016 00:00:08  2/1/2016 00:07:49               480   \n",
       "200           240  2/1/2016 02:00:02  2/1/2016 02:04:03               450   \n",
       "400           229  2/1/2016 05:41:09  2/1/2016 05:44:58               453   \n",
       "600           817  2/1/2016 06:12:02  2/1/2016 06:25:39               250   \n",
       "800           342  2/1/2016 06:28:41  2/1/2016 06:34:24               352   \n",
       "\n",
       "           start station name  start station latitude  \\\n",
       "0            W 53 St & 10 Ave               40.766697   \n",
       "200           W 49 St & 8 Ave               40.762272   \n",
       "400           W 22 St & 8 Ave               40.744751   \n",
       "600  Lafayette St & Jersey St               40.724561   \n",
       "800           W 56 St & 6 Ave               40.763406   \n",
       "\n",
       "     start station longitude  end station id       end station name  \\\n",
       "0                 -73.990617             524        W 43 St & 6 Ave   \n",
       "200               -73.987882             468     Broadway & W 55 St   \n",
       "400               -73.999154             459       W 20 St & 11 Ave   \n",
       "600               -73.995653             519  Pershing Square North   \n",
       "800               -73.977225             359     E 47 St & Park Ave   \n",
       "\n",
       "     end station latitude  end station longitude  bikeid    usertype  \\\n",
       "0               40.755273             -73.983169   23292  Subscriber   \n",
       "200             40.765265             -73.981923   22865  Subscriber   \n",
       "400             40.746745             -74.007756   18504  Subscriber   \n",
       "600             40.751873             -73.977706   23794  Subscriber   \n",
       "800             40.755103             -73.974987   24073  Subscriber   \n",
       "\n",
       "     birth year  gender  ageM  ageF  \n",
       "0        1966.0       1  49.0   NaN  \n",
       "200      1974.0       1  41.0   NaN  \n",
       "400      1962.0       1  53.0   NaN  \n",
       "600      1985.0       1  30.0   NaN  \n",
       "800      1981.0       1  34.0   NaN  "
      ]
     },
     "execution_count": 30,
     "metadata": {},
     "output_type": "execute_result"
    }
   ],
   "source": [
    "index = np.arange(0,df.shape[0],200)\n",
    "df_sub = df.iloc[index,:]\n",
    "df_sub.head()"
   ]
  },
  {
   "cell_type": "code",
   "execution_count": 31,
   "metadata": {
    "collapsed": true
   },
   "outputs": [],
   "source": [
    "bins = np.arange(0, 99, 10)"
   ]
  },
  {
   "cell_type": "code",
   "execution_count": 32,
   "metadata": {
    "collapsed": false
   },
   "outputs": [
    {
     "data": {
      "text/plain": [
       "<matplotlib.axes._subplots.AxesSubplot at 0x7fb26926ad90>"
      ]
     },
     "execution_count": 32,
     "metadata": {},
     "output_type": "execute_result"
    },
    {
     "data": {
      "image/png": "[encoded data removed]",
      "text/plain": [
       "<matplotlib.figure.Figure at 0x7fb1ecef98d0>"
      ]
     },
     "metadata": {},
     "output_type": "display_data"
    },
    {
     "data": {
      "image/png": "[encoded data removed]",
      "text/plain": [
       "<matplotlib.figure.Figure at 0x7fb1ecef9b90>"
      ]
     },
     "metadata": {},
     "output_type": "display_data"
    }
   ],
   "source": [
    "subM = df_sub['ageM'].groupby(pd.cut(df_sub['ageM'], bins)).agg([count_nonzero])\n",
    "subF = df_sub.ageF.groupby(pd.cut(df_sub['ageF'], bins)).agg([count_nonzero])\n",
    "subM.plot(kind = \"bar\", title=\"Male\", legend=False)\n",
    "subF.plot(kind = 'bar', title='Female', legend=False)"
   ]
  },
  {
   "cell_type": "markdown",
   "metadata": {},
   "source": [
    "### Fig 3: the distribution of rider's age by gender (subset)"
   ]
  },
  {
   "cell_type": "code",
   "execution_count": 33,
   "metadata": {
    "collapsed": true
   },
   "outputs": [],
   "source": [
    "diff_sub = np.abs(subM/subM.max() - subF/subF.max())\n",
    "#diff"
   ]
  },
  {
   "cell_type": "code",
   "execution_count": 34,
   "metadata": {
    "collapsed": true
   },
   "outputs": [],
   "source": [
    "subM_cs = df_sub.ageM.groupby(pd.cut(df_sub.ageM, bins)).agg([count_nonzero]).cumsum()\n",
    "subF_cs = df_sub.ageF.groupby(pd.cut(df_sub.ageF, bins)).agg([count_nonzero]).cumsum()"
   ]
  },
  {
   "cell_type": "code",
   "execution_count": 35,
   "metadata": {
    "collapsed": true
   },
   "outputs": [],
   "source": [
    "subM_cs_normalized = subM_cs/subM_cs.max()\n",
    "subF_cs_normalized = subF_cs/subF_cs.max()"
   ]
  },
  {
   "cell_type": "code",
   "execution_count": 36,
   "metadata": {
    "collapsed": false
   },
   "outputs": [
    {
     "data": {
      "text/plain": [
       "<matplotlib.legend.Legend at 0x7fb2690d8b50>"
      ]
     },
     "execution_count": 36,
     "metadata": {},
     "output_type": "execute_result"
    },
    {
     "data": {
      "image/png": "[encoded data removed]",
      "text/plain": [
       "<matplotlib.figure.Figure at 0x7fb26923b710>"
      ]
     },
     "metadata": {},
     "output_type": "display_data"
    }
   ],
   "source": [
    "pl.plot(bins[:-1]+5, subM_cs_normalized, label=\"Male\")\n",
    "pl.plot(bins[:-1]+5, subF_cs_normalized, label=\"Female\")\n",
    "pl.plot(bins[:-1]+5, diff_sub, label=\"difference\")\n",
    "pl.xlabel('age')\n",
    "pl.ylabel('normalized cumsum number')\n",
    "pl.legend()"
   ]
  },
  {
   "cell_type": "markdown",
   "metadata": {},
   "source": [
    "### Fig 4: The cumulative distribution of CitiBike riders' ages by gender (subset)"
   ]
  },
  {
   "cell_type": "markdown",
   "metadata": {},
   "source": [
    "##  K-S Test for Subset "
   ]
  },
  {
   "cell_type": "code",
   "execution_count": null,
   "metadata": {
    "collapsed": true
   },
   "outputs": [],
   "source": [
    "df.sub."
   ]
  },
  {
   "cell_type": "code",
   "execution_count": 38,
   "metadata": {
    "collapsed": false
   },
   "outputs": [
    {
     "name": "stdout",
     "output_type": "stream",
     "text": [
      "Ks_2sampResult(statistic=0.0914479099054495, pvalue=0.00096384496300891962)\n"
     ]
    }
   ],
   "source": [
    "ks_sub = scipy.stats.ks_2samp(df_sub.ageM[~np.isnan(df_sub.ageM)], df_sub.ageF[~np.isnan(df_sub.ageF)])\n",
    "print (ks_sub)"
   ]
  },
  {
   "cell_type": "markdown",
   "metadata": {},
   "source": [
    "The ks_2samp return the k-s statistics and p-value.\n",
    "<br/>\n",
    "since, p-value < 0.05, we can say under the significant level 0.05, reject the null hypothesis and choose the alternative hypothesis which is two samples are from the same distribution."
   ]
  },
  {
   "cell_type": "markdown",
   "metadata": {},
   "source": [
    "<br/><br/>"
   ]
  },
  {
   "cell_type": "markdown",
   "metadata": {},
   "source": [
    "## Pearson's test for correlation \n",
    " "
   ]
  },
  {
   "cell_type": "markdown",
   "metadata": {},
   "source": [
    "notice that the Pearson's is a pairwise test: the samples need to be\n",
    "<br/>a. sorted and\n",
    "<br/>b. the same size!\n",
    "<br/><br/> All Data"
   ]
  },
  {
   "cell_type": "markdown",
   "metadata": {},
   "source": [
    " "
   ]
  },
  {
   "cell_type": "markdown",
   "metadata": {},
   "source": [
    "Since Pearson's correlation test need samples with same size, and the subsets (female and male) have different number of rows. Here we randomly selesct *235911* rows of Male subset, and calculate the correlation between this new subset and Female subset. "
   ]
  },
  {
   "cell_type": "code",
   "execution_count": 39,
   "metadata": {
    "collapsed": false
   },
   "outputs": [
    {
     "name": "stdout",
     "output_type": "stream",
     "text": [
      "112587\n"
     ]
    }
   ],
   "source": [
    "pearsonM=np.array(df.ageM[~np.isnan(df.ageM)])\n",
    "pearsonF=np.array(df.ageF[~np.isnan(df.ageF)])\n",
    "\n",
    "row_counts = int(min(pearsonF.shape[0], pearsonM.shape[0])*1.0)\n",
    "print (row_counts)\n",
    "sub_index_male = np.random.choice(pearsonM.shape[0], row_counts, replace=False)\n",
    "sub_index_female = np.random.choice(pearsonF.shape[0], row_counts, replace= False)\n",
    "\n",
    "pearsonM_age = sort(pearsonM[sub_index_male])\n",
    "pearsonF_age = sort(pearsonF[sub_index_female])"
   ]
  },
  {
   "cell_type": "code",
   "execution_count": 40,
   "metadata": {
    "collapsed": false
   },
   "outputs": [
    {
     "data": {
      "text/plain": [
       "SpearmanrResult(correlation=0.99913631068473385, pvalue=0.0)"
      ]
     },
     "execution_count": 40,
     "metadata": {},
     "output_type": "execute_result"
    }
   ],
   "source": [
    "scipy.stats.spearmanr(list(pearsonM_age), list(pearsonF_age))"
   ]
  },
  {
   "cell_type": "code",
   "execution_count": 41,
   "metadata": {
    "collapsed": false
   },
   "outputs": [],
   "source": [
    "#pl.scatter(x=pearsonF_age,y=pearsonM_age)"
   ]
  },
  {
   "cell_type": "markdown",
   "metadata": {},
   "source": [
    "Corr=0.999 means x and y have a strong correlation. And p-value < 0.05 means under the significent level 0.05, we can reject the Null hypothesis which is the corr=0. Thus we can choose the alternative hhypothesis that is x and y has a statistical significent strong relationship."
   ]
  },
  {
   "cell_type": "code",
   "execution_count": 42,
   "metadata": {
    "collapsed": false
   },
   "outputs": [
    {
     "data": {
      "text/plain": [
       "SpearmanrResult(correlation=0.99913631068473385, pvalue=0.0)"
      ]
     },
     "execution_count": 42,
     "metadata": {},
     "output_type": "execute_result"
    }
   ],
   "source": [
    "scipy.stats.spearmanr(pearsonF_age,pearsonM_age,nan_policy='omit')"
   ]
  },
  {
   "cell_type": "code",
   "execution_count": null,
   "metadata": {
    "collapsed": true
   },
   "outputs": [],
   "source": []
  },
  {
   "cell_type": "code",
   "execution_count": null,
   "metadata": {
    "collapsed": true
   },
   "outputs": [],
   "source": []
  },
  {
   "cell_type": "code",
   "execution_count": null,
   "metadata": {
    "collapsed": true
   },
   "outputs": [],
   "source": [
    "# extra Credit"
   ]
  }
 ],
 "metadata": {
  "kernelspec": {
   "display_name": "PUI2016_Python2",
   "language": "python",
   "name": "pui2016_python2"
  },
  "language_info": {
   "codemirror_mode": {
    "name": "ipython",
    "version": 2
   },
   "file_extension": ".py",
   "mimetype": "text/x-python",
   "name": "python",
   "nbconvert_exporter": "python",
   "pygments_lexer": "ipython2",
   "version": "2.7.12"
  }
 },
 "nbformat": 4,
 "nbformat_minor": 0
}
