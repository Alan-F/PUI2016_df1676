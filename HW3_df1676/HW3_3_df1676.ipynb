{
 "cells": [
  {
   "cell_type": "markdown",
   "metadata": {},
   "source": [
    "# HW_3_3_df1676"
   ]
  },
  {
   "cell_type": "markdown",
   "metadata": {},
   "source": [
    "\n",
    "## Question: <br/><br/>Does the new bus route make a big difference for the commuters?"
   ]
  },
  {
   "cell_type": "markdown",
   "metadata": {},
   "source": [
    "## Hypothesis:  "
   ]
  },
  {
   "cell_type": "markdown",
   "metadata": {},
   "source": [
    "#### Notes:<br/><br/> $T_{new}: the\\ commute\\ time\\ of\\ new\\ bus\\ route$ <br/><br/>$T_{old}: the\\ commute\\ time\\ of\\ old\\ bus\\ route$<br/><br/>$T_{old} \\sim N(\\mu = 36, \\sigma =6)$"
   ]
  },
  {
   "cell_type": "markdown",
   "metadata": {},
   "source": [
    "### Null Hypothesis:<br/><br/> the commute time of new bus route is on average the same as it was before"
   ]
  },
  {
   "cell_type": "markdown",
   "metadata": {},
   "source": [
    "### $$mean(T_{new}) = mean(T_{old})$$"
   ]
  },
  {
   "cell_type": "markdown",
   "metadata": {},
   "source": [
    "### Alternative Hypothesis:<br/><br/>  the commute time of new bus route is on average shorter or longer than it was before "
   ]
  },
  {
   "cell_type": "markdown",
   "metadata": {},
   "source": [
    "### $$mean(T_{new})  \\neq mean(T_{old})$$"
   ]
  },
  {
   "cell_type": "markdown",
   "metadata": {},
   "source": [
    "### Statistical Significance: $$\\alpha = 0.05$$"
   ]
  },
  {
   "cell_type": "code",
   "execution_count": 3,
   "metadata": {
    "collapsed": true
   },
   "outputs": [],
   "source": [
    "import numpy as np"
   ]
  },
  {
   "cell_type": "code",
   "execution_count": 4,
   "metadata": {
    "collapsed": false
   },
   "outputs": [],
   "source": [
    "times = np.loadtxt(\"times.txt\")"
   ]
  },
  {
   "cell_type": "code",
   "execution_count": 6,
   "metadata": {
    "collapsed": false
   },
   "outputs": [],
   "source": [
    "N = len(times)"
   ]
  },
  {
   "cell_type": "code",
   "execution_count": 8,
   "metadata": {
    "collapsed": false
   },
   "outputs": [],
   "source": [
    "mean_pop = 36\n",
    "mean_sample = times.mean()"
   ]
  },
  {
   "cell_type": "code",
   "execution_count": 9,
   "metadata": {
    "collapsed": true
   },
   "outputs": [],
   "source": [
    "stdev = 6"
   ]
  },
  {
   "cell_type": "code",
   "execution_count": 32,
   "metadata": {
    "collapsed": false
   },
   "outputs": [],
   "source": [
    "Z = (mean_pop - mean_sample) / (stdev / np.sqrt(N)) "
   ]
  },
  {
   "cell_type": "code",
   "execution_count": 25,
   "metadata": {
    "collapsed": false
   },
   "outputs": [
    {
     "name": "stdout",
     "output_type": "stream",
     "text": [
      "mean_pop = 36.00, mean_sampe = 34.47, stdev = 6.00, N = 100\n"
     ]
    }
   ],
   "source": [
    "print(\"mean_pop = {:0.2f}, mean_sampe = {:0.2f}, stdev = {:0.2f}, N = {}\".format(\n",
    "        mean_pop, mean_sample, stdev, N))"
   ]
  },
  {
   "cell_type": "code",
   "execution_count": 34,
   "metadata": {
    "collapsed": false
   },
   "outputs": [
    {
     "name": "stdout",
     "output_type": "stream",
     "text": [
      "Z = 2.56\n"
     ]
    }
   ],
   "source": [
    "print (\"Z = {:0.2f}\".format(Z))"
   ]
  },
  {
   "cell_type": "markdown",
   "metadata": {},
   "source": [
    "## Z = 2.56 means sample mean is 2.56 times stdev far from the population mean, which demonstrates H0 is more likely to reject. "
   ]
  },
  {
   "cell_type": "markdown",
   "metadata": {},
   "source": [
    "### According to the [table](http://www.sjsu.edu/faculty/gerstman/StatPrimer/z-two-tails.pdf) of Two-tail p value for Z statistics, we can find p value of our test."
   ]
  },
  {
   "cell_type": "markdown",
   "metadata": {},
   "source": [
    "p = 0.01047"
   ]
  },
  {
   "cell_type": "markdown",
   "metadata": {},
   "source": [
    "### Since statistical significance in our test is <br/><br/>$\\alpha = 0.05$ , $p = 0.01047 < 0.025 = \\alpha/2$ , <br/><br/>then we reject Null Hypothesis and choose Alternative Hypothesis,<br/><br/> which means new bus route make a big difference for the commuters."
   ]
  }
 ],
 "metadata": {
  "kernelspec": {
   "display_name": "Python [Root]",
   "language": "python",
   "name": "Python [Root]"
  },
  "language_info": {
   "codemirror_mode": {
    "name": "ipython",
    "version": 2
   },
   "file_extension": ".py",
   "mimetype": "text/x-python",
   "name": "python",
   "nbconvert_exporter": "python",
   "pygments_lexer": "ipython2",
   "version": "2.7.12"
  }
 },
 "nbformat": 4,
 "nbformat_minor": 0
}
